{
 "cells": [
  {
   "cell_type": "markdown",
   "metadata": {},
   "source": [
    "### Import required libraries"
   ]
  },
  {
   "cell_type": "code",
   "execution_count": 2,
   "metadata": {},
   "outputs": [
    {
     "name": "stderr",
     "output_type": "stream",
     "text": [
      "/home/sscekic/anaconda3/envs/tf/lib/python3.9/site-packages/torchvision/io/image.py:13: UserWarning: Failed to load image Python extension: '/home/sscekic/anaconda3/envs/tf/lib/python3.9/site-packages/torchvision/image.so: undefined symbol: _ZN5torch3jit17parseSchemaOrNameERKNSt7__cxx1112basic_stringIcSt11char_traitsIcESaIcEEE'If you don't plan on using image functionality from `torchvision.io`, you can ignore this warning. Otherwise, there might be something wrong with your environment. Did you have `libjpeg` or `libpng` installed before building `torchvision` from source?\n",
      "  warn(\n"
     ]
    }
   ],
   "source": [
    "import os\n",
    "import cv2\n",
    "import numpy as np\n",
    "from PIL import Image\n",
    "import matplotlib.pyplot as plt\n",
    "from sklearn.metrics import accuracy_score, f1_score, ConfusionMatrixDisplay, confusion_matrix, recall_score, precision_score\n",
    "\n",
    "from torchvision import transforms\n",
    "from torchvision.datasets import ImageFolder\n",
    "from torch.utils.data import DataLoader\n",
    "from torch.utils.data import random_split\n",
    "\n",
    "import torch\n",
    "import torch.nn as nn\n",
    "import torch.optim as optim\n",
    "from torchvision.models import alexnet"
   ]
  },
  {
   "cell_type": "markdown",
   "metadata": {},
   "source": [
    "### Load the dataset"
   ]
  },
  {
   "cell_type": "code",
   "execution_count": 4,
   "metadata": {},
   "outputs": [
    {
     "name": "stdout",
     "output_type": "stream",
     "text": [
      "Number of different breeds: 120\n"
     ]
    }
   ],
   "source": [
    "datasetPath = \"dataset/images/Images/\"\n",
    "all_breeds = os.listdir(datasetPath)\n",
    "print(f\"Number of different breeds: {len(all_breeds)}\")"
   ]
  },
  {
   "cell_type": "markdown",
   "metadata": {},
   "source": [
    "Next we get the photos and labels (labels will be the index of each folder)"
   ]
  },
  {
   "cell_type": "code",
   "execution_count": 41,
   "metadata": {},
   "outputs": [
    {
     "name": "stdout",
     "output_type": "stream",
     "text": [
      "{1: 'Chihuahua', 2: 'Japanese_spaniel', 3: 'Maltese_dog', 4: 'Pekinese', 5: 'Shih', 6: 'Blenheim_spaniel', 7: 'papillon', 8: 'toy_terrier', 9: 'Rhodesian_ridgeback', 10: 'Afghan_hound', 11: 'basset', 12: 'beagle', 13: 'bloodhound', 14: 'bluetick', 15: 'black', 16: 'Walker_hound', 17: 'English_foxhound', 18: 'redbone', 19: 'borzoi', 20: 'Irish_wolfhound', 21: 'Italian_greyhound', 22: 'whippet', 23: 'Ibizan_hound', 24: 'Norwegian_elkhound', 25: 'otterhound', 26: 'Saluki', 27: 'Scottish_deerhound', 28: 'Weimaraner', 29: 'Staffordshire_bullterrier', 30: 'American_Staffordshire_terrier', 31: 'Bedlington_terrier', 32: 'Border_terrier', 33: 'Kerry_blue_terrier', 34: 'Irish_terrier', 35: 'Norfolk_terrier', 36: 'Norwich_terrier', 37: 'Yorkshire_terrier', 38: 'wire', 39: 'Lakeland_terrier', 40: 'Sealyham_terrier', 41: 'Airedale', 42: 'cairn', 43: 'Australian_terrier', 44: 'Dandie_Dinmont', 45: 'Boston_bull', 46: 'miniature_schnauzer', 47: 'giant_schnauzer', 48: 'standard_schnauzer', 49: 'Scotch_terrier', 50: 'Tibetan_terrier', 51: 'silky_terrier', 52: 'soft', 53: 'West_Highland_white_terrier', 54: 'Lhasa', 55: 'flat', 56: 'curly', 57: 'golden_retriever', 58: 'Labrador_retriever', 59: 'Chesapeake_Bay_retriever', 60: 'German_short', 61: 'vizsla', 62: 'English_setter', 63: 'Irish_setter', 64: 'Gordon_setter', 65: 'Brittany_spaniel', 66: 'clumber', 67: 'English_springer', 68: 'Welsh_springer_spaniel', 69: 'cocker_spaniel', 70: 'Sussex_spaniel', 71: 'Irish_water_spaniel', 72: 'kuvasz', 73: 'schipperke', 74: 'groenendael', 75: 'malinois', 76: 'briard', 77: 'kelpie', 78: 'komondor', 79: 'Old_English_sheepdog', 80: 'Shetland_sheepdog', 81: 'collie', 82: 'Border_collie', 83: 'Bouvier_des_Flandres', 84: 'Rottweiler', 85: 'German_shepherd', 86: 'Doberman', 87: 'miniature_pinscher', 88: 'Greater_Swiss_Mountain_dog', 89: 'Bernese_mountain_dog', 90: 'Appenzeller', 91: 'EntleBucher', 92: 'boxer', 93: 'bull_mastiff', 94: 'Tibetan_mastiff', 95: 'French_bulldog', 96: 'Great_Dane', 97: 'Saint_Bernard', 98: 'Eskimo_dog', 99: 'malamute', 100: 'Siberian_husky', 101: 'affenpinscher', 102: 'basenji', 103: 'pug', 104: 'Leonberg', 105: 'Newfoundland', 106: 'Great_Pyrenees', 107: 'Samoyed', 108: 'Pomeranian', 109: 'chow', 110: 'keeshond', 111: 'Brabancon_griffon', 112: 'Pembroke', 113: 'Cardigan', 114: 'toy_poodle', 115: 'miniature_poodle', 116: 'standard_poodle', 117: 'Mexican_hairless', 118: 'dingo', 119: 'dhole', 120: 'African_hunting_dog'}\n"
     ]
    }
   ],
   "source": [
    "def load_images_and_labels(breeds, datasetPath):\n",
    "    images=[]\n",
    "    labels=[]\n",
    "    label_dict = {}\n",
    "    for index_zero, category in enumerate(breeds):\n",
    "        index = index_zero + 1\n",
    "        label_dict[index] = category.split(\"-\")[1]\n",
    "        for image_name in os.listdir(datasetPath+\"/\"+category):\n",
    "            labels.append(index)\n",
    "    return labels, label_dict\n",
    "labels_list, label_dict = load_images_and_labels(all_breeds, datasetPath)\n",
    "print(label_dict)"
   ]
  },
  {
   "cell_type": "markdown",
   "metadata": {},
   "source": [
    "### Data analysis "
   ]
  },
  {
   "cell_type": "code",
   "execution_count": 43,
   "metadata": {},
   "outputs": [],
   "source": [
    "labels = np.array(labels_list)"
   ]
  },
  {
   "cell_type": "code",
   "execution_count": 44,
   "metadata": {},
   "outputs": [
    {
     "data": {
      "image/png": "[encoded data removed]",
      "text/plain": [
       "<Figure size 640x480 with 1 Axes>"
      ]
     },
     "metadata": {},
     "output_type": "display_data"
    }
   ],
   "source": [
    "label_counts = np.bincount(labels)\n",
    "\n",
    "# Plot the bar graph\n",
    "plt.bar(range(1, len(label_counts)), label_counts[1:])\n",
    "plt.xlabel('Label')\n",
    "plt.ylabel('Number of Examples')\n",
    "plt.title('Number of Examples for Each Label')\n",
    "plt.show()"
   ]
  },
  {
   "cell_type": "markdown",
   "metadata": {},
   "source": [
    "We can see this dataset is pretty uniform in terms of the number of the examples per class"
   ]
  },
  {
   "cell_type": "markdown",
   "metadata": {},
   "source": [
    "### Transofrming and splitting the dataset"
   ]
  },
  {
   "cell_type": "code",
   "execution_count": 38,
   "metadata": {},
   "outputs": [],
   "source": [
    "def GetDataLoaders(path):\n",
    "    transform = transforms.Compose([\n",
    "        transforms.Resize((224, 224)),\n",
    "        transforms.ToTensor(),\n",
    "        transforms.Normalize(mean=[0.485, 0.456, 0.406], std=[0.229, 0.224, 0.225]),\n",
    "    ])\n",
    "    \n",
    "    dataset = ImageFolder(root=path, transform=transform)\n",
    "\n",
    "    classes = torch.unique(torch.tensor(dataset.targets))\n",
    "    train_size = int(0.8 * len(dataset))\n",
    "    test_size = len(dataset) - train_size \n",
    "\n",
    "    train_dataset, test_dataset = random_split(dataset, [train_size, test_size])\n",
    "\n",
    "    train_loader = DataLoader(train_dataset, batch_size=64, shuffle=True, num_workers=4)\n",
    "    test_loader = DataLoader(test_dataset, batch_size=64, shuffle=False, num_workers=4)\n",
    "\n",
    "    return train_loader, test_loader, classes\n",
    "\n",
    "\n",
    "train_loader, test_loader, classes = GetDataLoaders(\"dataset/images/Images\")"
   ]
  },
  {
   "cell_type": "markdown",
   "metadata": {},
   "source": [
    "Next we create the AlexNet model "
   ]
  },
  {
   "cell_type": "code",
   "execution_count": 39,
   "metadata": {},
   "outputs": [
    {
     "name": "stderr",
     "output_type": "stream",
     "text": [
      "/home/sscekic/anaconda3/envs/tf/lib/python3.9/site-packages/torchvision/models/_utils.py:208: UserWarning: The parameter 'pretrained' is deprecated since 0.13 and may be removed in the future, please use 'weights' instead.\n",
      "  warnings.warn(\n",
      "/home/sscekic/anaconda3/envs/tf/lib/python3.9/site-packages/torchvision/models/_utils.py:223: UserWarning: Arguments other than a weight enum or `None` for 'weights' are deprecated since 0.13 and may be removed in the future. The current behavior is equivalent to passing `weights=AlexNet_Weights.IMAGENET1K_V1`. You can also use `weights=AlexNet_Weights.DEFAULT` to get the most up-to-date weights.\n",
      "  warnings.warn(msg)\n"
     ]
    }
   ],
   "source": [
    "class AlexNet(nn.Module):\n",
    "    def __init__(self, num_classes):\n",
    "        super(AlexNet, self).__init__()\n",
    "        self.alexnet = alexnet(pretrained=True)\n",
    "        self.alexnet.classifier[6] = nn.Linear(4096, num_classes)\n",
    "\n",
    "    def forward(self, x):\n",
    "        return self.alexnet(x)\n",
    "\n",
    "model = AlexNet(len(classes))"
   ]
  },
  {
   "cell_type": "markdown",
   "metadata": {},
   "source": [
    "Next we train the model\n",
    "- We experiment with different learning rates to find out the best one (0.001, 0.01, 0.1, 0.5) => The best one is **0.001**"
   ]
  },
  {
   "cell_type": "code",
   "execution_count": 42,
   "metadata": {},
   "outputs": [],
   "source": [
    "lr = 0.001\n",
    "\n",
    "criterion = nn.CrossEntropyLoss()\n",
    "optimizer = optim.SGD(model.parameters(), lr=lr, momentum=0.9)\n",
    "\n",
    "num_epochs = 3\n",
    "device = torch.device('cuda' if torch.cuda.is_available() else 'cpu')\n",
    "model.to(device)\n",
    "\n",
    "loss_list = []\n",
    "\n",
    "for epoch in range(num_epochs):\n",
    "    model.train()\n",
    "    for inputs, labels in train_loader:\n",
    "        inputs, labels = inputs.to(device), labels.to(device)\n",
    "        optimizer.zero_grad()\n",
    "        outputs = model(inputs)\n",
    "        loss = criterion(outputs, labels)\n",
    "        loss_list.append(loss.item())\n",
    "        loss.backward()\n",
    "        optimizer.step()"
   ]
  },
  {
   "cell_type": "markdown",
   "metadata": {},
   "source": [
    "Next we evaluate the model"
   ]
  },
  {
   "cell_type": "code",
   "execution_count": 49,
   "metadata": {},
   "outputs": [],
   "source": [
    "model.eval()\n",
    "\n",
    "y_true = torch.tensor([], dtype=torch.int32)\n",
    "y_pred = torch.tensor([], dtype=torch.int32)\n",
    "\n",
    "with torch.no_grad():\n",
    "    for inputs, labels in test_loader:\n",
    "        inputs, labels = inputs.to(device), labels.to(device)\n",
    "        y_true = torch.cat((y_true, labels), 0)\n",
    "\n",
    "        outputs = model(inputs)\n",
    "        _, predicted = torch.max(outputs.data, 1)\n",
    "\n",
    "        y_pred = torch.cat((y_pred, predicted), 0)\n"
   ]
  },
  {
   "cell_type": "code",
   "execution_count": 53,
   "metadata": {},
   "outputs": [
    {
     "name": "stdout",
     "output_type": "stream",
     "text": [
      "Accuracy on the test set: 0.5884%\n",
      "F1 score = 0.5710\n",
      "Precision: 0.5966%\n",
      "Recall = 0.5798\n"
     ]
    },
    {
     "name": "stderr",
     "output_type": "stream",
     "text": [
      "/home/sscekic/anaconda3/envs/tf/lib/python3.9/site-packages/sklearn/metrics/_classification.py:1471: UndefinedMetricWarning: Precision is ill-defined and being set to 0.0 in labels with no predicted samples. Use `zero_division` parameter to control this behavior.\n",
      "  _warn_prf(average, modifier, msg_start, len(result))\n"
     ]
    }
   ],
   "source": [
    "accuracy = accuracy_score(y_true, y_pred)\n",
    "f1 = f1_score(y_true, y_pred, average=\"macro\")\n",
    "precision = precision_score(y_true, y_pred, average=\"macro\")\n",
    "recall = recall_score(y_true, y_pred, average=\"macro\")\n",
    "\n",
    "print(f'Accuracy on the test set: {accuracy:.4f}%')\n",
    "print(f'F1 score = {f1:.4f}')\n",
    "print(f'Precision: {precision:.4f}')\n",
    "print(f'Recall = {recall:.4f}')"
   ]
  }
 ],
 "metadata": {
  "kernelspec": {
   "display_name": "base",
   "language": "python",
   "name": "python3"
  },
  "language_info": {
   "codemirror_mode": {
    "name": "ipython",
    "version": 3
   },
   "file_extension": ".py",
   "mimetype": "text/x-python",
   "name": "python",
   "nbconvert_exporter": "python",
   "pygments_lexer": "ipython3",
   "version": "3.9.18"
  }
 },
 "nbformat": 4,
 "nbformat_minor": 2
}
